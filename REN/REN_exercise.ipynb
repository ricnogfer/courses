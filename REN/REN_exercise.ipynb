{
 "cells": [
  {
   "cell_type": "code",
   "execution_count": 1,
   "id": "e2c68264-175e-4d05-9bd9-8f06224e40f7",
   "metadata": {
    "tags": []
   },
   "outputs": [],
   "source": [
    "# import necessary Python packages\n",
    "import pandas as pd   # pandas may be invoked through the alias \"pd\"\n",
    "import matplotlib.pyplot as plt   # matplotlib.pyplot may be invoked through the alias \"plt\""
   ]
  },
  {
   "cell_type": "code",
   "execution_count": 2,
   "id": "cc6ac80f-1efb-49f7-995d-e20abe67f687",
   "metadata": {
    "tags": []
   },
   "outputs": [],
   "source": [
    "# function that takes a list and a number and multiplies each value of the list by the number\n",
    "def multiply(values, number):\n",
    "\n",
    "    result = []\n",
    "\n",
    "    # loop through the list\n",
    "    for value in values:\n",
    "        result.append(value * number)\n",
    "\n",
    "    return result"
   ]
  },
  {
   "cell_type": "code",
   "execution_count": 3,
   "id": "8beefce6-defd-4c70-9636-3a093f4ef9cc",
   "metadata": {
    "tags": []
   },
   "outputs": [],
   "source": [
    "# function that returns the maximum value stored in a list\n",
    "def maximum(values):\n",
    "\n",
    "    result = values[0]\n",
    "\n",
    "    # loop through the list\n",
    "    for value in values:\n",
    "        if value > result:\n",
    "            result = value\n",
    "\n",
    "    return result"
   ]
  },
  {
   "cell_type": "code",
   "execution_count": 4,
   "id": "eb0a0d58-46de-4e17-beef-ed3fcce23f84",
   "metadata": {
    "tags": []
   },
   "outputs": [],
   "source": [
    "# multiply list (containing values 4, 3 and 5) by 2\n",
    "result = multiply([4, 3, 5], 2)"
   ]
  },
  {
   "cell_type": "code",
   "execution_count": 5,
   "id": "777f3aad-16ed-4404-ad55-86048d0db546",
   "metadata": {
    "tags": []
   },
   "outputs": [
    {
     "name": "stdout",
     "output_type": "stream",
     "text": [
      "10\n"
     ]
    }
   ],
   "source": [
    "# display maximum value contained in the result of the multiplication\n",
    "print(maximum(result))"
   ]
  },
  {
   "cell_type": "code",
   "execution_count": 6,
   "id": "126b3c29-48f7-4033-84c3-a5d9581f9e58",
   "metadata": {
    "tags": []
   },
   "outputs": [
    {
     "data": {
      "image/png": "[encoded data removed]",
      "text/plain": [
       "<Figure size 640x480 with 1 Axes>"
      ]
     },
     "metadata": {},
     "output_type": "display_data"
    }
   ],
   "source": [
    "# plot result of the multiplication\n",
    "plt.plot(result, \"o\")\n",
    "plt.xticks([0, 1, 2], [\"result[0]\", \"result[1]\", \"result[2]\"])\n",
    "plt.ylabel(\"Value\")\n",
    "plt.show()"
   ]
  }
 ],
 "metadata": {
  "kernelspec": {
   "display_name": "Python 3 (ipykernel)",
   "language": "python",
   "name": "python3"
  },
  "language_info": {
   "codemirror_mode": {
    "name": "ipython",
    "version": 3
   },
   "file_extension": ".py",
   "mimetype": "text/x-python",
   "name": "python",
   "nbconvert_exporter": "python",
   "pygments_lexer": "ipython3",
   "version": "3.11.5"
  }
 },
 "nbformat": 4,
 "nbformat_minor": 5
}
